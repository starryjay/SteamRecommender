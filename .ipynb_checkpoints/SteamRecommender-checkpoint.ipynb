{
 "cells": [
  {
   "cell_type": "code",
   "execution_count": 1,
   "id": "91ff6a57-d4a4-498b-99e9-6e4da2ded39f",
   "metadata": {},
   "outputs": [],
   "source": [
    "import numpy as np\n",
    "import pandas as pd\n",
    "\n",
    "games = pd.read_csv('/Users/shobhanashreedhar/games_may2024_cleaned.csv')"
   ]
  },
  {
   "cell_type": "code",
   "execution_count": 2,
   "id": "0f86b6e2-4e7b-494f-b08e-c63d680ca4ec",
   "metadata": {},
   "outputs": [],
   "source": [
    "import os\n",
    "\n",
    "reviewdir = '/Users/shobhanashreedhar/SteamReviews2024'\n",
    "\n",
    "review_files = {}"
   ]
  },
  {
   "cell_type": "code",
   "execution_count": null,
   "id": "c0fca19c-3bea-4b87-9c58-fb1f7843d110",
   "metadata": {},
   "outputs": [],
   "source": [
    "for f in os.listdir(reviewdir):\n",
    "    fpath = os.path.join(reviewdir, f)\n",
    "    key = int(f[:-4])\n",
    "    review_files[key] = fpath\n",
    "    df = pd.read_csv(fpath)\n",
    "    df['AppID'] = key\n",
    "    df.to_csv(fpath)\n",
    "    print('appended AppID to', fpath)"
   ]
  },
  {
   "cell_type": "code",
   "execution_count": 3,
   "id": "7d53b13a-0812-4cbb-81db-3fd94a4c4cf7",
   "metadata": {},
   "outputs": [],
   "source": [
    "games = games[games['AppID'].isin(review_files.keys())]"
   ]
  },
  {
   "cell_type": "code",
   "execution_count": 4,
   "id": "596fc6da-6ab1-41d9-9295-b7187748d103",
   "metadata": {},
   "outputs": [
    {
     "name": "stderr",
     "output_type": "stream",
     "text": [
      "/Users/shobhanashreedhar/anaconda3/envs/baseenv/lib/python3.11/site-packages/dask/dataframe/_pyarrow_compat.py:21: UserWarning: You are using pyarrow version 11.0.0 which is known to be insecure. See https://www.cve.org/CVERecord?id=CVE-2023-47248 for further details. Please upgrade to pyarrow>=14.0.1 or install pyarrow-hotfix to patch your current version.\n",
      "  warnings.warn(\n"
     ]
    }
   ],
   "source": [
    "import dask.dataframe as dd\n",
    "\n",
    "reviewfiles = '/Users/shobhanashreedhar/SteamReviews2024/*.csv'\n",
    "ddf = dd.read_csv(reviewfiles, assume_missing=True, dtype={'steam_china_location': 'object'})\n",
    "reviews = ddf.compute()\n",
    "reviews.to_csv('reviews.csv', index=False)\n"
   ]
  },
  {
   "cell_type": "code",
   "execution_count": 5,
   "id": "c25c0756-3bd9-4dfc-ba9b-e48af680175e",
   "metadata": {},
   "outputs": [],
   "source": [
    "from sklearn.feature_extraction.text import TfidfVectorizer, CountVectorizer\n",
    "from sklearn.metrics.pairwise import cosine_similarity\n",
    "import scipy.stats\n",
    "import matplotlib.pyplot as plt\n",
    "import seaborn as sns"
   ]
  },
  {
   "cell_type": "code",
   "execution_count": null,
   "id": "1a75452a-5bee-46ec-9f4b-74692ff6e7f8",
   "metadata": {},
   "outputs": [],
   "source": []
  },
  {
   "cell_type": "code",
   "execution_count": null,
   "id": "a5bdad91-078a-449b-8ec3-a8b33a5e655d",
   "metadata": {},
   "outputs": [],
   "source": []
  }
 ],
 "metadata": {
  "kernelspec": {
   "display_name": "Python 3 (ipykernel)",
   "language": "python",
   "name": "python3"
  },
  "language_info": {
   "codemirror_mode": {
    "name": "ipython",
    "version": 3
   },
   "file_extension": ".py",
   "mimetype": "text/x-python",
   "name": "python",
   "nbconvert_exporter": "python",
   "pygments_lexer": "ipython3",
   "version": "3.11.0"
  }
 },
 "nbformat": 4,
 "nbformat_minor": 5
}
