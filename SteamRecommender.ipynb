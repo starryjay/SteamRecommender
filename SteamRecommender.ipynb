{
 "cells": [
  {
   "cell_type": "markdown",
   "id": "4ef54378-6878-4177-9633-3b1195e88999",
   "metadata": {},
   "source": [
    "# Importing Data"
   ]
  },
  {
   "cell_type": "markdown",
   "id": "17946e04-4d11-472d-a86a-da9b5789ea8e",
   "metadata": {},
   "source": [
    "## Set up cell magic/games dataset"
   ]
  },
  {
   "cell_type": "code",
   "execution_count": 1,
   "id": "9e983ca5-b37f-48df-9987-00d2132e7c75",
   "metadata": {},
   "outputs": [],
   "source": [
    "from IPython.core.magic import register_cell_magic\n",
    "\n",
    "@register_cell_magic\n",
    "def skip(line, cell):\n",
    "    return"
   ]
  },
  {
   "cell_type": "code",
   "execution_count": 77,
   "id": "91ff6a57-d4a4-498b-99e9-6e4da2ded39f",
   "metadata": {},
   "outputs": [],
   "source": [
    "import numpy as np\n",
    "import pandas as pd\n",
    "from sklearn.feature_extraction.text import TfidfVectorizer, CountVectorizer\n",
    "from sklearn.metrics.pairwise import cosine_similarity\n",
    "import scipy.stats\n",
    "import matplotlib.pyplot as plt\n",
    "import seaborn as sns\n",
    "pd.set_option('display.max_columns', None)\n",
    "\n",
    "games = pd.read_csv(r\"/Users/shobhanashreedhar/SteamRecommender/games_may2024_cleaned.csv\")"
   ]
  },
  {
   "cell_type": "code",
   "execution_count": 14,
   "id": "bb1f1e56-594c-4bd0-9ecb-809543ac943d",
   "metadata": {},
   "outputs": [],
   "source": [
    "rev_small = pd.read_csv('rev_small.csv', dtype=dtypedict)"
   ]
  },
  {
   "cell_type": "code",
   "execution_count": 8,
   "id": "b2425402-d9ee-45e8-9454-dbaf36b061cb",
   "metadata": {},
   "outputs": [],
   "source": [
    "dtypedict = {'Unnamed: 0': 'Int64', 'recommendationid': 'Int64', 'language': 'object', 'timestamp_created': 'Int64', 'timestamp_updated': 'Int64',\n",
    "            'voted_up': 'Int64', 'votes_up': 'Int64', 'votes_funny': 'Int64', 'weighted_vote_score': 'float', 'comment_count': 'Int64',\n",
    "             'steam_purchase': 'Int64', 'received_for_free': 'Int64', 'written_during_early_access': 'Int64', 'hidden_in_steam_china': 'Int64',\n",
    "             'steam_china_location': 'object', 'author_steamid': 'Int64','author_num_games_owned': 'Int64', 'author_num_reviews': 'Int64', \n",
    "             'author_playtime_forever': 'float', 'author_playtime_last_two_weeks': 'float', 'author_playtime_at_review': 'float', \n",
    "             'author_last_played': 'Int64', 'AppID': 'Int64', 'Unnamed: 0.1': 'Int64'}"
   ]
  },
  {
   "cell_type": "markdown",
   "id": "e0505711-117d-4f68-92ad-59d6bd326e41",
   "metadata": {
    "jp-MarkdownHeadingCollapsed": true
   },
   "source": [
    "## Joining all reviews datasets"
   ]
  },
  {
   "cell_type": "code",
   "execution_count": 3,
   "id": "0f86b6e2-4e7b-494f-b08e-c63d680ca4ec",
   "metadata": {},
   "outputs": [],
   "source": [
    "%%skip\n",
    "import os\n",
    "\n",
    "reviewdir = '/Users/shobhanashreedhar/SteamReviews2024'\n",
    "\n",
    "review_files = {}"
   ]
  },
  {
   "cell_type": "code",
   "execution_count": 4,
   "id": "c0fca19c-3bea-4b87-9c58-fb1f7843d110",
   "metadata": {},
   "outputs": [],
   "source": [
    "%%skip\n",
    "for f in os.listdir(reviewdir):\n",
    "    fpath = os.path.join(reviewdir, f)\n",
    "    key = int(f[:-4])\n",
    "    review_files[key] = fpath\n",
    "    df = pd.read_csv(fpath)\n",
    "    df['AppID'] = key\n",
    "    df.to_csv(fpath)\n",
    "    print('appended AppID to', fpath)"
   ]
  },
  {
   "cell_type": "code",
   "execution_count": 5,
   "id": "7d53b13a-0812-4cbb-81db-3fd94a4c4cf7",
   "metadata": {},
   "outputs": [],
   "source": [
    "%%skip\n",
    "games = games[games['AppID'].isin(review_files.keys())]"
   ]
  },
  {
   "cell_type": "code",
   "execution_count": 6,
   "id": "596fc6da-6ab1-41d9-9295-b7187748d103",
   "metadata": {},
   "outputs": [],
   "source": [
    "%%skip\n",
    "import dask.dataframe as dd\n",
    "\n",
    "reviewfiles = '/Users/shobhanashreedhar/SteamReviews2024/*.csv'\n",
    "ddf = dd.read_csv(reviewfiles, assume_missing=True, dtype={'steam_china_location': 'object'})\n",
    "reviews = ddf.compute()\n",
    "reviews.to_csv('reviews.csv', index=False)\n"
   ]
  },
  {
   "cell_type": "markdown",
   "id": "1c0a22ff-d6b7-4f7e-bb7a-63098047e9ff",
   "metadata": {
    "jp-MarkdownHeadingCollapsed": true
   },
   "source": [
    "## Set up datasets"
   ]
  },
  {
   "cell_type": "code",
   "execution_count": 9,
   "id": "1a75452a-5bee-46ec-9f4b-74692ff6e7f8",
   "metadata": {},
   "outputs": [],
   "source": [
    "%%skip\n",
    "reviews = pd.read_csv(r\"C:\\Users\\mckid\\Downloads\\reviews.csv\", dtype=dtypedict)"
   ]
  },
  {
   "cell_type": "code",
   "execution_count": 11,
   "id": "8c991b4a-ff50-4b77-86c6-3822740f23cb",
   "metadata": {},
   "outputs": [],
   "source": [
    "%%skip\n",
    "reviews"
   ]
  },
  {
   "cell_type": "code",
   "execution_count": 12,
   "id": "012d9d93-10b7-4a6f-841b-982c3207701e",
   "metadata": {},
   "outputs": [],
   "source": [
    "%%skip\n",
    "rev_small = reviews.sample(n=100000)\n",
    "rev_small.to_csv('rev_small.csv')"
   ]
  },
  {
   "cell_type": "code",
   "execution_count": 13,
   "id": "03cb3e53-783a-4eb7-b8ff-34ca926d2e6e",
   "metadata": {},
   "outputs": [],
   "source": [
    "%%skip\n",
    "del reviews"
   ]
  },
  {
   "cell_type": "markdown",
   "id": "322df1b6-66cf-47a7-b5aa-c38f5ca58d84",
   "metadata": {},
   "source": [
    "# Data Wrangling"
   ]
  },
  {
   "cell_type": "markdown",
   "id": "f30f29be-330e-4672-9a5c-3a125b1f6ebe",
   "metadata": {
    "jp-MarkdownHeadingCollapsed": true
   },
   "source": [
    "## Dropping Irrelevant Columns From Base Datasets"
   ]
  },
  {
   "cell_type": "code",
   "execution_count": 16,
   "id": "b3c93990-95d1-47db-943d-c040d2cd0d29",
   "metadata": {
    "scrolled": true
   },
   "outputs": [],
   "source": [
    "rev_small.drop(['Unnamed: 0.2', 'Unnamed: 0', 'Unnamed: 0.1'], axis=1, inplace=True)"
   ]
  },
  {
   "cell_type": "code",
   "execution_count": 18,
   "id": "ec5cb57d-7468-41ba-897a-f1d443cd5d43",
   "metadata": {
    "scrolled": true
   },
   "outputs": [
    {
     "name": "stdout",
     "output_type": "stream",
     "text": [
      "Null Percentages in rev_small:\n",
      "------------------------------\n",
      "recommendationid                             0.000%\n",
      "language                                     0.000%\n",
      "timestamp_created                            0.000%\n",
      "timestamp_updated                            0.000%\n",
      "voted_up                                     0.000%\n",
      "votes_up                                     0.000%\n",
      "votes_funny                                  0.000%\n",
      "weighted_vote_score                          0.000%\n",
      "comment_count                                0.000%\n",
      "steam_purchase                               0.000%\n",
      "received_for_free                            0.000%\n",
      "written_during_early_access                  0.000%\n",
      "hidden_in_steam_china                        0.000%\n",
      "steam_china_location                        99.997%\n",
      "author_steamid                               0.000%\n",
      "author_num_games_owned                       0.000%\n",
      "author_num_reviews                           0.000%\n",
      "author_playtime_forever                      0.000%\n",
      "author_playtime_last_two_weeks               0.000%\n",
      "author_playtime_at_review                    0.144%\n",
      "author_last_played                           0.000%\n",
      "AppID                                        0.000%\n"
     ]
    }
   ],
   "source": [
    "print('Null Percentages in rev_small:\\n------------------------------')\n",
    "for col in rev_small.columns.to_list():\n",
    "    print(f\"{col:<30} {(rev_small[col].isna().sum()/len(rev_small)):>20.3%}\")"
   ]
  },
  {
   "cell_type": "markdown",
   "id": "317108a0-cb16-4d59-b798-e8f034e53d36",
   "metadata": {},
   "source": [
    "We will drop the column `steam_china_location` due to its high null percentage (>50%) and lack of relevance to the dataset."
   ]
  },
  {
   "cell_type": "code",
   "execution_count": 19,
   "id": "2870caf0-d903-440b-a029-3c792954dcf2",
   "metadata": {},
   "outputs": [],
   "source": [
    "rev_small.drop('steam_china_location', axis=1, inplace=True)"
   ]
  },
  {
   "cell_type": "code",
   "execution_count": 20,
   "id": "efb23902-6e86-4a6a-8ec1-38fe0a7114d4",
   "metadata": {
    "scrolled": true
   },
   "outputs": [
    {
     "name": "stdout",
     "output_type": "stream",
     "text": [
      "Null Percentages in games:\n",
      "--------------------------\n",
      "AppID                                        0.000%\n",
      "name                                         0.004%\n",
      "release_date                                 0.000%\n",
      "required_age                                 0.000%\n",
      "price                                        0.000%\n",
      "dlc_count                                    0.000%\n",
      "detailed_description                         0.198%\n",
      "about_the_game                               0.225%\n",
      "short_description                            0.130%\n",
      "reviews                                     87.707%\n",
      "header_image                                 0.000%\n",
      "website                                     52.466%\n",
      "support_url                                 49.692%\n",
      "support_email                               12.647%\n",
      "windows                                      0.000%\n",
      "mac                                          0.000%\n",
      "linux                                        0.000%\n",
      "metacritic_score                             0.000%\n",
      "metacritic_url                              95.290%\n",
      "achievements                                 0.000%\n",
      "recommendations                              0.000%\n",
      "notes                                       83.013%\n",
      "supported_languages                          0.000%\n",
      "full_audio_languages                         0.000%\n",
      "packages                                     0.000%\n",
      "developers                                   0.000%\n",
      "publishers                                   0.000%\n",
      "categories                                   0.000%\n",
      "genres                                       0.000%\n",
      "screenshots                                  0.000%\n",
      "movies                                       0.000%\n",
      "user_score                                   0.000%\n",
      "score_rank                                  99.951%\n",
      "positive                                     0.000%\n",
      "negative                                     0.000%\n",
      "estimated_owners                             0.000%\n",
      "average_playtime_forever                     0.000%\n",
      "average_playtime_2weeks                      0.000%\n",
      "median_playtime_forever                      0.000%\n",
      "median_playtime_2weeks                       0.000%\n",
      "peak_ccu                                     0.000%\n",
      "tags                                         0.000%\n",
      "pct_pos_total                                0.000%\n",
      "num_reviews_total                            0.000%\n",
      "pct_pos_recent                               0.000%\n",
      "num_reviews_recent                           0.000%\n"
     ]
    }
   ],
   "source": [
    "print('Null Percentages in games:\\n--------------------------')\n",
    "\n",
    "for col in games.columns.to_list():\n",
    "    print(f\"{col:<30} {(games[col].isna().sum()/len(games)):>20.3%}\")"
   ]
  },
  {
   "cell_type": "markdown",
   "id": "84b5714a-8731-4b22-abd3-f677b8d0c2cb",
   "metadata": {},
   "source": [
    "We will drop the columns `reviews`, `website`, `support_url`, `metacritic_url`, `notes`, and `score_rank` due to high null percentages (>50%) and irrelevance to the dataset."
   ]
  },
  {
   "cell_type": "code",
   "execution_count": 21,
   "id": "717cd052-8cf1-4353-9460-0a098b0b7e9f",
   "metadata": {},
   "outputs": [],
   "source": [
    "games.drop(['reviews', 'website', 'support_url', 'metacritic_url', 'notes', 'score_rank'], axis=1, inplace=True)"
   ]
  },
  {
   "cell_type": "markdown",
   "id": "64f3200e-4480-4d72-8695-7e02727d1b91",
   "metadata": {},
   "source": [
    "## Processing Combined Dataset"
   ]
  },
  {
   "cell_type": "code",
   "execution_count": 67,
   "id": "e7b5734a-1880-4f6e-a67b-8ec1d8f5f6e0",
   "metadata": {},
   "outputs": [],
   "source": [
    "combined = pd.merge(games, rev_small, on='AppID', how='inner')"
   ]
  },
  {
   "cell_type": "code",
   "execution_count": 68,
   "id": "e7ace17b-03ac-465f-a7d5-5acebecee201",
   "metadata": {
    "scrolled": true
   },
   "outputs": [],
   "source": [
    "dropcandidates = ['required_age', 'dlc_count', 'metacritic_score', 'user_score', 'average_playtime_forever', 'average_playtime_2weeks',\n",
    "                  'median_playtime_forever', 'median_playtime_2weeks', 'peak_ccu', 'votes_up', 'votes_funny', 'weighted_vote_score',\n",
    "                  'comment_count', 'steam_purchase', 'received_for_free', 'written_during_early_access', 'hidden_in_steam_china',\n",
    "                  'author_playtime_forever', 'author_playtime_last_two_weeks', 'author_playtime_at_review', 'author_last_played',\n",
    "                  'achievements']"
   ]
  },
  {
   "cell_type": "code",
   "execution_count": 69,
   "id": "794b0fae-6606-4216-a451-c9ebe3efc04d",
   "metadata": {},
   "outputs": [
    {
     "name": "stdout",
     "output_type": "stream",
     "text": [
      "Percentage of Values == 0 per Column:\n",
      "-------------------------------------\n",
      "required_age                                     77.048%\n",
      "dlc_count                                        32.879%\n",
      "metacritic_score                                 50.354%\n",
      "user_score                                       99.990%\n",
      "average_playtime_forever                         34.175%\n",
      "average_playtime_2weeks                          52.065%\n",
      "median_playtime_forever                          34.175%\n",
      "median_playtime_2weeks                           52.065%\n",
      "peak_ccu                                          5.765%\n",
      "votes_up                                         70.071%\n",
      "votes_funny                                      88.462%\n",
      "weighted_vote_score                              66.339%\n",
      "comment_count                                    96.056%\n",
      "steam_purchase                                   34.692%\n",
      "received_for_free                                95.878%\n",
      "written_during_early_access                      88.546%\n",
      "hidden_in_steam_china                            68.856%\n",
      "author_playtime_forever                           0.031%\n",
      "author_playtime_last_two_weeks                   87.943%\n",
      "author_playtime_at_review                         0.002%\n",
      "author_last_played                                0.031%\n",
      "achievements                                     17.114%\n"
     ]
    }
   ],
   "source": [
    "droplist = []\n",
    "print('Percentage of Values == 0 per Column:\\n-------------------------------------')\n",
    "for col in dropcandidates:\n",
    "    zero_pct = (combined[col] == 0).sum() / len(combined)\n",
    "    if zero_pct > 0.5:\n",
    "        droplist.append(col)\n",
    "    print(f\"{col:<35} {zero_pct:>20.3%}\")"
   ]
  },
  {
   "cell_type": "markdown",
   "id": "5a7cece8-96ed-4dc7-9372-d42900e415d6",
   "metadata": {},
   "source": [
    "We will drop columns with >50% values == 0."
   ]
  },
  {
   "cell_type": "code",
   "execution_count": 70,
   "id": "71290837-16c0-49e2-bc5c-2a1981260c31",
   "metadata": {},
   "outputs": [],
   "source": [
    "combined.drop(droplist, axis=1, inplace=True)"
   ]
  },
  {
   "cell_type": "code",
   "execution_count": 73,
   "id": "eeadc2d7-c145-492b-a284-2fdcbc1d2afc",
   "metadata": {},
   "outputs": [],
   "source": [
    "combined.drop(['detailed_description', 'about_the_game', 'short_description', 'header_image', 'support_email', 'packages', 'screenshots',\n",
    "               'timestamp_created', 'timestamp_updated', 'author_last_played', 'movies', 'tags', 'estimated_owners', 'num_reviews_recent', \n",
    "               'full_audio_languages', 'publishers'], axis=1, inplace=True)"
   ]
  },
  {
   "cell_type": "markdown",
   "id": "ae145a1d-1600-4492-9aa1-ea820002a8dd",
   "metadata": {},
   "source": [
    "## OneHot Encoding"
   ]
  },
  {
   "cell_type": "markdown",
   "id": "411356a0-e4c2-48e0-817e-e22d7e47aaba",
   "metadata": {},
   "source": [
    "We will OneHot encode the columns with multiple values to ensure that our data is useful to the model."
   ]
  },
  {
   "cell_type": "code",
   "execution_count": 79,
   "id": "babeeabb-ff44-4401-98eb-0b991ab5622b",
   "metadata": {},
   "outputs": [],
   "source": [
    "from sklearn.preprocessing import OneHotEncoder"
   ]
  },
  {
   "cell_type": "code",
   "execution_count": null,
   "id": "0b1c4cea-8d60-4d56-b653-d9c5a648e5d8",
   "metadata": {},
   "outputs": [],
   "source": []
  }
 ],
 "metadata": {
  "kernelspec": {
   "display_name": "Python 3 (ipykernel)",
   "language": "python",
   "name": "python3"
  },
  "language_info": {
   "codemirror_mode": {
    "name": "ipython",
    "version": 3
   },
   "file_extension": ".py",
   "mimetype": "text/x-python",
   "name": "python",
   "nbconvert_exporter": "python",
   "pygments_lexer": "ipython3",
   "version": "3.11.5"
  }
 },
 "nbformat": 4,
 "nbformat_minor": 5
}
